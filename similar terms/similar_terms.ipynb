{
 "cells": [
  {
   "cell_type": "code",
   "execution_count": 2,
   "id": "8d468f14-a957-4794-b431-85e1a82eb757",
   "metadata": {},
   "outputs": [],
   "source": [
    "import rdflib\n",
    "import pandas as pd\n",
    "import numpy as np\n",
    "from numpy import dot\n",
    "from numpy.linalg import norm"
   ]
  },
  {
   "cell_type": "code",
   "execution_count": null,
   "id": "17d83a0b-c3ee-409a-ab16-b690002610a6",
   "metadata": {},
   "outputs": [],
   "source": [
    "\n",
    "filename = \"../WebProtege/digitrubber-full.ttl\"\n",
    "\n",
    "\n",
    "g = rdflib.Graph()\n",
    "\n",
    "g.parse(filename, format='ttl')\n",
    "\n",
    "query = \"\"\"\n",
    "\n",
    "SELECT ?Class ?Label ?Definition\n",
    "WHERE {\n",
    "    ?Class <http://www.w3.org/1999/02/22-rdf-syntax-ns#type> <http://www.w3.org/2002/07/owl#Class> ;\n",
    "           <http://www.w3.org/2000/01/rdf-schema#label> ?Label ;\n",
    "           <http://purl.obolibrary.org/obo/IAO_0000115> ?Definition.\n",
    "    Filter(lang(?Definition) !='de')\n",
    "    Filter(lang(?Label) !='de')\n",
    "}\n",
    "\n",
    "\"\"\"\n",
    "\n",
    "qres = g.query(query)\n",
    "\n",
    "clss_def_dict = {'Class':[], 'Label':[], 'Definition':[]}\n",
    "\n",
    "for row in qres:\n",
    "    clss_def_dict['Class'].append(row.asdict()['Class'].split('/')[-1])\n",
    "    clss_def_dict['Label'].append(row.asdict()['Label'])\n",
    "    clss_def_dict['Definition'].append(row.asdict()['Definition'])\n",
    "    # print(row.asdict()['Class'], row.asdict()['Label'] row.asdict()['Definition'])\n",
    "    # print(\"%s \\t %s \" % row)\n",
    "    # print(\"%s\" % row)\n",
    "\n",
    "df = pd.DataFrame(data=clss_def_dict )\n",
    "\n",
    "df.to_csv('class_definition.csv', encoding='utf-8')"
   ]
  },
  {
   "cell_type": "code",
   "execution_count": null,
   "id": "beb41845-2deb-41d4-8956-af981a1bcf3c",
   "metadata": {},
   "outputs": [],
   "source": [
    "from sentence_transformers import SentenceTransformer, util\n",
    "\n",
    "df = pd.read_csv('class_definition.csv', encoding='utf-8')\n",
    "\n",
    "model = SentenceTransformer('sentence-transformers/all-MiniLM-L6-v2')\n",
    "\n",
    "#Compute embedding for both lists\n",
    "emb_mat = [model.encode(definition, convert_to_tensor=False) for definition in df['Definition'].values]\n",
    "df['embedding'] = emb_mat\n"
   ]
  },
  {
   "cell_type": "code",
   "execution_count": 6,
   "id": "6c2e21a7-2d73-4a16-990d-7c56f01d7c04",
   "metadata": {},
   "outputs": [],
   "source": [
    "# compute the cosine similarity\n",
    "\n",
    "def cosine_sim(i,j):\n",
    "    return dot(i, j)/(norm(i)*norm(j))\n",
    "    \n",
    "\n",
    "emb_sim_mat = np.array([[cosine_sim(i, j) for j in df['embedding'].values] for i in df['embedding'].values])\n",
    "\n",
    "emb_sim_mat_bool = emb_sim_mat > 0.9\n",
    "\n",
    "labels = df['Label'].values"
   ]
  },
  {
   "cell_type": "code",
   "execution_count": 17,
   "id": "6d66c16b-7f78-4548-b96b-ec3f860938a4",
   "metadata": {},
   "outputs": [
    {
     "name": "stderr",
     "output_type": "stream",
     "text": [
      "huggingface/tokenizers: The current process just got forked, after parallelism has already been used. Disabling parallelism to avoid deadlocks...\n",
      "To disable this warning, you can either:\n",
      "\t- Avoid using `tokenizers` before the fork if possible\n",
      "\t- Explicitly set the environment variable TOKENIZERS_PARALLELISM=(true | false)\n"
     ]
    }
   ],
   "source": [
    "import plotly.express as px\n",
    "\n",
    "\n",
    "fig = px.imshow(emb_sim_mat_bool, x=labels, y=labels, color_continuous_scale='Viridis', aspect=\"auto\", width=3000, height=3000)\n",
    "fig.update_xaxes(side=\"top\")\n",
    "fig.write_html('term_similarity.html', auto_open=True)"
   ]
  },
  {
   "cell_type": "code",
   "execution_count": 11,
   "id": "074aaa74-7b6d-451e-97cc-39223f1396e4",
   "metadata": {},
   "outputs": [
    {
     "name": "stderr",
     "output_type": "stream",
     "text": [
      "huggingface/tokenizers: The current process just got forked, after parallelism has already been used. Disabling parallelism to avoid deadlocks...\n",
      "To disable this warning, you can either:\n",
      "\t- Avoid using `tokenizers` before the fork if possible\n",
      "\t- Explicitly set the environment variable TOKENIZERS_PARALLELISM=(true | false)\n"
     ]
    }
   ],
   "source": [
    "import plotly.express as px\n",
    "\n",
    "\n",
    "fig = px.imshow(emb_sim_mat_bool, x=labels, y=labels, color_continuous_scale='blues', aspect=\"auto\", width=1000, height=1000, text_auto=False)\n",
    "fig.update_xaxes(side=\"top\")\n",
    "fig.write_html('term_similarity_blue.html', auto_open=True)"
   ]
  },
  {
   "cell_type": "code",
   "execution_count": 57,
   "id": "08bd7cbc-e8e2-4979-9338-0584a990d88e",
   "metadata": {},
   "outputs": [],
   "source": [
    "df_emb = pd.DataFrame(emb_mat)\n",
    "\n",
    "df_emb.to_csv('emb_vector.tsv', sep='\\t', index=False)\n",
    "\n",
    "df[['Label', 'Definition']].to_csv('metadata.tsv', sep='\\t', index=False)"
   ]
  }
 ],
 "metadata": {
  "kernelspec": {
   "display_name": "Python 3 (ipykernel)",
   "language": "python",
   "name": "python3"
  },
  "language_info": {
   "codemirror_mode": {
    "name": "ipython",
    "version": 3
   },
   "file_extension": ".py",
   "mimetype": "text/x-python",
   "name": "python",
   "nbconvert_exporter": "python",
   "pygments_lexer": "ipython3",
   "version": "3.11.3"
  }
 },
 "nbformat": 4,
 "nbformat_minor": 5
}
