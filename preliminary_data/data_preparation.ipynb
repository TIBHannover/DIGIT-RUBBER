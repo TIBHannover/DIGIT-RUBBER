{
 "cells": [
  {
   "cell_type": "code",
   "execution_count": null,
   "id": "108e5ee9-4e20-40cf-a91a-158c71c9d151",
   "metadata": {
    "tags": []
   },
   "outputs": [],
   "source": [
    "import pandas as pd"
   ]
  },
  {
   "cell_type": "code",
   "execution_count": null,
   "id": "67bf772b-7037-4291-86e2-d304956a623d",
   "metadata": {
    "tags": []
   },
   "outputs": [],
   "source": [
    "df = pd.read_excel('./CQs_USs_Excel.xlsx', header=[0,1,2], index_col=[1,0], na_values='')\n",
    "# df = df.droplevel(1)\n",
    "# df = df.loc[:,~df.columns.str.match(\"Unnamed\")]\n",
    "df.head(10)"
   ]
  },
  {
   "cell_type": "code",
   "execution_count": null,
   "id": "a4a83a6d-cefc-4a6e-aac2-2217ba35222f",
   "metadata": {
    "tags": []
   },
   "outputs": [],
   "source": [
    "df.columns"
   ]
  },
  {
   "cell_type": "code",
   "execution_count": null,
   "id": "a0c412fe-5c48-46c6-af1d-baa3714d2e9c",
   "metadata": {
    "tags": []
   },
   "outputs": [],
   "source": [
    "#df = df.drop(columns=[0])\n",
    "# df.to_excel('output.xlsx')"
   ]
  },
  {
   "cell_type": "code",
   "execution_count": null,
   "id": "4d72c425-ed24-4b8c-832f-9041359cc472",
   "metadata": {
    "tags": []
   },
   "outputs": [],
   "source": [
    "df.columns.tolist()"
   ]
  },
  {
   "cell_type": "code",
   "execution_count": null,
   "id": "8677a3e0-de07-4a73-aaf6-15027950e6c8",
   "metadata": {
    "tags": []
   },
   "outputs": [],
   "source": [
    "# split dataframe\n",
    "\n",
    "df_CQ = df.iloc[0:141]\n",
    "df_US = df.iloc[145:]"
   ]
  },
  {
   "cell_type": "code",
   "execution_count": null,
   "id": "95067b2f-ba70-4b2e-9a89-84c58c1aa4a4",
   "metadata": {
    "tags": []
   },
   "outputs": [],
   "source": [
    "df_CQ.tail()"
   ]
  },
  {
   "cell_type": "code",
   "execution_count": null,
   "id": "5ce14994-f71c-4fc9-8932-2226b922ff57",
   "metadata": {
    "tags": []
   },
   "outputs": [],
   "source": [
    "# set column names\n",
    "df_US.droplevel(level=0)\n",
    "\n",
    "\n",
    "# df_US.columns = df_US.iloc[0]\n",
    "df_US.head()"
   ]
  },
  {
   "cell_type": "code",
   "execution_count": null,
   "id": "23ce522f-89f3-4d5a-ba6f-8ee149a5cb1e",
   "metadata": {
    "tags": []
   },
   "outputs": [],
   "source": [
    "# clean df_US data and extract userstories from each partner in different csv file\n",
    "\n",
    "df_US = df_US.dropna(axis=1).iloc[1:]\n",
    "\n",
    "p_abbrv = ['DIK', 'HSH', 'IFNANO', 'IMR', 'ITA', 'JADE']\n",
    "\n",
    "for i in p_abbrv:\n",
    "    df_US[df_US['User Story ID'].str.match(i, case=False)].to_csv('./userstories/'+i+'_US.csv', index=False, encoding='utf-8')"
   ]
  },
  {
   "cell_type": "code",
   "execution_count": null,
   "id": "7f52626b-c07c-4849-ad84-66b96fa5702d",
   "metadata": {
    "tags": []
   },
   "outputs": [],
   "source": [
    "df_CQ.columns.to_list()"
   ]
  },
  {
   "cell_type": "code",
   "execution_count": null,
   "id": "7d81df81-5078-424e-b8f7-83424ab050b0",
   "metadata": {
    "tags": []
   },
   "outputs": [],
   "source": [
    "# clean df_US data and extract userstories from each partner in different csv file\n",
    "\n",
    "\n",
    "p_abbrv = ['DIK', 'HSH', 'IFNANO', 'IMR', 'ITA', 'JADE']\n",
    "\n",
    "# df_CQ[('ID (CQ & US)', 'Unnamed: 1_level_1', 'Unnamed: 1_level_2')] = df_CQ[('ID (CQ & US)', 'Unnamed: 1_level_1', 'Unnamed: 1_level_2')].ffill()\n",
    "\n",
    "for i in p_abbrv:\n",
    "    df_CQ[df_CQ[('ID (CQ & US)', 'Unnamed: 1_level_1', 'Unnamed: 1_level_2')].str.match(i, case=False)].to_csv('./competency_questions/'+i+'_CQ.csv', index=False, encoding='utf-8')"
   ]
  },
  {
   "cell_type": "code",
   "execution_count": null,
   "id": "a5987bd4-b4b5-4d53-a7b1-d9d286024250",
   "metadata": {
    "tags": []
   },
   "outputs": [],
   "source": [
    "df_CQ.head(20)"
   ]
  },
  {
   "cell_type": "code",
   "execution_count": null,
   "id": "c0457ce7-1fbb-4212-aa9d-68b5e755a51f",
   "metadata": {},
   "outputs": [],
   "source": []
  }
 ],
 "metadata": {
  "kernelspec": {
   "display_name": "Python 3 (ipykernel)",
   "language": "python",
   "name": "python3"
  },
  "language_info": {
   "codemirror_mode": {
    "name": "ipython",
    "version": 3
   },
   "file_extension": ".py",
   "mimetype": "text/x-python",
   "name": "python",
   "nbconvert_exporter": "python",
   "pygments_lexer": "ipython3",
   "version": "3.11.2"
  }
 },
 "nbformat": 4,
 "nbformat_minor": 5
}
